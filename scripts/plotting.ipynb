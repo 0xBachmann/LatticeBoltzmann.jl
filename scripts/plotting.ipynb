{
 "cells": [
  {
   "cell_type": "code",
   "execution_count": 1,
   "metadata": {},
   "outputs": [
    {
     "name": "stderr",
     "output_type": "stream",
     "text": [
      "\u001b[32m\u001b[1m  Activating\u001b[22m\u001b[39m project at `~/hs2024/pdeongpu/LatticeBoltzmann.jl`\n"
     ]
    }
   ],
   "source": [
    "using Pkg\n",
    "Pkg.activate(\"$(@__DIR__)/..\")"
   ]
  },
  {
   "cell_type": "code",
   "execution_count": 2,
   "metadata": {},
   "outputs": [],
   "source": [
    "using ParallelStencil\n",
    "@init_parallel_stencil(Threads, Float64, 3, inbounds=true)"
   ]
  },
  {
   "cell_type": "code",
   "execution_count": 3,
   "metadata": {},
   "outputs": [
    {
     "data": {
      "text/plain": [
       "thermal_convection_lbm_3D"
      ]
     },
     "metadata": {},
     "output_type": "display_data"
    }
   ],
   "source": [
    "const method = :D3Q19\n",
    "include(\"../src/LatticeBoltzmann3D.jl\")"
   ]
  },
  {
   "cell_type": "code",
   "execution_count": 4,
   "metadata": {},
   "outputs": [
    {
     "name": "stdout",
     "output_type": "stream",
     "text": [
      "Global grid: 3x3x3 (nprocs: 1, dims: 1x1x1; device support: none)\n"
     ]
    }
   ],
   "source": [
    "init_global_grid(3, 3, 3)\n",
    "finalize_global_grid(finalize_MPI=false)"
   ]
  },
  {
   "cell_type": "markdown",
   "metadata": {},
   "source": [
    "# Rayleigh Number Comparison"
   ]
  },
  {
   "cell_type": "code",
   "execution_count": 7,
   "metadata": {},
   "outputs": [],
   "source": [
    "for Ra in [10, 100, 1000]\n",
    "    thermal_convection_lbm_3D(N=40, nt=10000, Ra=Ra, vis_file=\"ra$Ra.mp4\", manage_MPI=false)\n",
    "end"
   ]
  },
  {
   "cell_type": "markdown",
   "metadata": {},
   "source": [
    "# Parallel Efficiency Plot"
   ]
  },
  {
   "cell_type": "code",
   "execution_count": 6,
   "metadata": {},
   "outputs": [
    {
     "data": {
      "text/plain": [
       "\"/home/jonas/eth/HS 2024/pdeongpu/LatticeBoltzmann.jl/docs/plots/weak_scaling.png\""
      ]
     },
     "metadata": {},
     "output_type": "display_data"
    }
   ],
   "source": [
    "using Plots\n",
    "\n",
    "n_nodes = [1, 2, 4, 8, 27, 64]\n",
    "t_effs = [291.65997961715567, 285.5423201147124, 285.9032788175847, 276.3592963556997, 275.9834819528713, 276.6327437563446]\n",
    "\n",
    "# Assume ideal throughput is the same as the throughput for the smallest number of nodes\n",
    "t_ideal = t_effs[1]  # Ideal performance for weak scaling\n",
    "\n",
    "# Compute efficiency\n",
    "efficiency =  t_effs./t_ideal\n",
    "\n",
    "# Create the plot\n",
    "plot(n_nodes, efficiency, label=\"Efficiency\", xlabel=\"Number of Nodes\", ylabel=\"Efficiency\", marker=:circle, line=:auto)\n",
    "\n",
    "# Save and show plot\n",
    "savefig(\"../docs/plots/weak_scaling.png\")"
   ]
  },
  {
   "cell_type": "markdown",
   "metadata": {},
   "source": [
    "# 3D Contour Plot of Evolution"
   ]
  },
  {
   "cell_type": "code",
   "execution_count": null,
   "metadata": {},
   "outputs": [],
   "source": [
    "using GLMakie, Plots, ProgressMeter\n",
    "\n",
    "function load_array!(Aname, A)\n",
    "    fname = string(Aname, \".bin\")\n",
    "    fid=open(fname, \"r\"); read!(fid, A); close(fid)\n",
    "end\n",
    "\n",
    "function contour_plot()\n",
    "    lx, ly, lz = 40.0, 20.0, 24.0\n",
    "    nx, ny, nz = 40, 20, 40\n",
    "    temperature = zeros(Float32, nx - 2, ny - 2, nz - 2)\n",
    "\n",
    "    visdir = \"visdir\"\n",
    "    frames = 1:1001\n",
    "\n",
    "    @showprogress for iframe in frames\n",
    "        println(iframe)\n",
    "        fig = Figure(size=(1600, 1000), fontsize=24)\n",
    "        ax = Axis3(fig[1, 1]; aspect=(1, 1, 0.5), title=\"Temperature\", xlabel=\"x\", ylabel=\"z\", zlabel=\"x\")\n",
    "        load_array!(\"$visdir/out_temp_$(lpad(iframe, 4, \"0\"))\", temperature)\n",
    "        @show size(temperature)\n",
    "        surf = GLMakie.contour!(ax, permutedims(temperature, (1, 3, 2)); alpha=0.05, colormap=:turbo, levels=4)\n",
    "        save(\"$visdir/$(lpad(iframe, 6, \"0\")).png\", fig)\n",
    "    end\n",
    "\n",
    "    fnames = [\"$(lpad(iframe, 6, \"0\"))\" for iframe in frames]\n",
    "    anim = Animation(visdir, fnames);\n",
    "    gif(anim, \"../docs/plots/3D_MULTI_XPU_surf.mp4\", fps=24)\n",
    "end\n",
    "\n",
    "contour_plot()"
   ]
  },
  {
   "cell_type": "markdown",
   "metadata": {},
   "source": [
    "# 3D Slice Plot of Evolution"
   ]
  },
  {
   "cell_type": "code",
   "execution_count": null,
   "metadata": {},
   "outputs": [],
   "source": [
    "using GLMakie, Plots, ProgressMeter\n",
    "\n",
    "function load_array!(Aname, A)\n",
    "    fname = string(Aname, \".bin\")\n",
    "    fid=open(fname, \"r\"); read!(fid, A); close(fid)\n",
    "end\n",
    "\n",
    "function slice_plot()\n",
    "\n",
    "    lx, ly, lz = 40.0, 20.0, 24.0\n",
    "    nx, ny, nz = 200, 100, 200\n",
    "    temperature = zeros(Float32, nx - 2, ny - 2, nz - 2)\n",
    "\n",
    "    x = LinRange(0, lx, nx - 2)\n",
    "    y = LinRange(0, ly, ny - 2)\n",
    "    z = LinRange(0, lz, nz - 2)\n",
    "\n",
    "    visdir = \"visdir_200\"\n",
    "    frames = 1:1001\n",
    "\n",
    "    @showprogress for iframe in frames\n",
    "        fig = Figure(size=(1600, 1000), fontsize=24)\n",
    "        ax = Axis3(fig[1, 1]; aspect=(1, 1, 0.5), title=\"Temperature\", xlabel=\"x\", ylabel=\"z\", zlabel=\"y\")\n",
    "        load_array!(\"$visdir/out_temp_$(lpad(iframe, 4, \"0\"))\", temperature)\n",
    "        plt = volumeslices!(ax, x, z, y, permutedims(temperature, (1, 3, 2)); colormap=:turbo, alpha=0.8, colorrange=(-0.5, 0.5), bbox_visible=false)  \n",
    "\n",
    "        plt[:update_yz][](Int((nx-2)/2))\n",
    "        plt[:update_xz][](Int((nz-2)/2))\n",
    "        plt[:update_xy][](Int(floor((ny-2)/5)))    \n",
    "\n",
    "        save(\"$visdir/$(lpad(iframe, 6, \"0\")).png\", fig)\n",
    "    end\n",
    "\n",
    "    fnames = [\"$(lpad(iframe, 6, \"0\"))\" for iframe in frames]\n",
    "    anim = Animation(visdir, fnames);\n",
    "    gif(anim, \"../docs/plots/3D_MULTI_XPU_slice_200.mp4\", fps=24)\n",
    "end\n",
    "\n",
    "slice_plot()"
   ]
  }
 ],
 "metadata": {
  "kernelspec": {
   "display_name": "Julia 1.11.2",
   "language": "julia",
   "name": "julia-1.11"
  },
  "language_info": {
   "file_extension": ".jl",
   "mimetype": "application/julia",
   "name": "julia",
   "version": "1.11.2"
  }
 },
 "nbformat": 4,
 "nbformat_minor": 2
}
